{
 "cells": [
  {
   "cell_type": "markdown",
   "id": "dec3e9d8",
   "metadata": {},
   "source": [
    "# Server Admin REST API\n",
    "\n",
    "Using the **ArcGIS Server Administrator Directory** REST API to administer an ArcGIS Server and Services"
   ]
  },
  {
   "cell_type": "markdown",
   "id": "c8bbc4be",
   "metadata": {},
   "source": [
    "## Imports\n",
    "\n",
    "- ### **Requests**\n",
    "  - for making HTTP requests\n",
    "  - https://requests.readthedocs.io/en/latest/user/quickstart/"
   ]
  },
  {
   "cell_type": "code",
   "execution_count": 2,
   "id": "5040485f",
   "metadata": {},
   "outputs": [],
   "source": [
    "import json\n",
    "from urllib.parse import urljoin\n",
    "\n",
    "import requests"
   ]
  },
  {
   "cell_type": "markdown",
   "id": "9cca6a81",
   "metadata": {},
   "source": [
    "## Credentials\n",
    "\n",
    "- Server Manager credentials are stored in a file outside of version control.  \n",
    "- To get usernames and passwords, use the function below to get a dict with those values"
   ]
  },
  {
   "cell_type": "code",
   "execution_count": 3,
   "id": "faecc60b",
   "metadata": {},
   "outputs": [],
   "source": [
    "def get_credentials():\n",
    "    '''Get the username and password for the Server sites in a Dict with keys: 'user' and 'pswd'\n",
    "    '''\n",
    "\n",
    "    with open('params.json', 'r') as jsonfile:\n",
    "        jsontxt = jsonfile.read()\n",
    "\n",
    "        creds_json = json.loads(jsontxt)\n",
    "\n",
    "    user = creds_json['login']['username']\n",
    "    pswd = creds_json['login']['password']\n",
    "\n",
    "    creds = {\n",
    "        \"user\": user,\n",
    "        \"pswd\": pswd\n",
    "        }\n",
    "\n",
    "    return creds"
   ]
  },
  {
   "cell_type": "markdown",
   "id": "000ae579",
   "metadata": {},
   "source": [
    "## Get the Server Administrator Root URL\n",
    "\n",
    "- Each ArcGIS Server machine is has an Administrator Root URL for interacting with the ArcGIS REST API\n",
    "- This is the starting point for all other API calls\n",
    "\n",
    "https://developers.arcgis.com/rest/enterprise-administration/server/rootitems/"
   ]
  },
  {
   "cell_type": "code",
   "execution_count": 4,
   "id": "fdcdd6d2",
   "metadata": {},
   "outputs": [],
   "source": [
    "def get_root_url(portal, server, token=''):\n",
    "    '''Returns the Server Administrator Root URL for a Server in a Portal\n",
    "    '''\n",
    "\n",
    "    # get Portal credentials and URL\n",
    "    # stored in a dict in a json file stored outside version control\n",
    "\n",
    "    with open('params.json', 'r') as jsonfile:\n",
    "        jsontxt = jsonfile.read()\n",
    "\n",
    "        creds = json.loads(jsontxt)\n",
    "\n",
    "    # get the URL of the ArcGIS Server Administrator API root resource\n",
    "    # https://developers.arcgis.com/rest/enterprise-administration/server/site/\n",
    "\n",
    "    root_url = creds['roots'][portal][server]\n",
    "\n",
    "    return root_url"
   ]
  },
  {
   "cell_type": "markdown",
   "id": "fc1643fe",
   "metadata": {},
   "source": [
    "## Generate a Token\n",
    "\n",
    "- Any of the functions that operate on a password-protected REST API require a token for access\n",
    "- Best practice in scripting is to generate a single token with the function below, then pass it as an argument to later functions.\n",
    "- Each function has the ability to generate its own token, if none is passed.\n",
    "\n",
    "https://developers.arcgis.com/rest/enterprise-administration/server/generatetoken/"
   ]
  },
  {
   "cell_type": "code",
   "execution_count": 5,
   "id": "63e375b3",
   "metadata": {},
   "outputs": [],
   "source": [
    "def get_token(portal, server, exp_min=90):\n",
    "    '''Returns a token that can be used by clients when working with the Server Admin API.\n",
    "    '''\n",
    "\n",
    "    # get Server credentials, stored outside version control\n",
    "\n",
    "    creds = get_credentials()\n",
    "\n",
    "\n",
    "    # build the URL to the 'Generate Token' endpoint\n",
    "    # https://developers.arcgis.com/rest/enterprise-administration/server/generatetoken/\n",
    "\n",
    "    token_subdir = \"generateToken\"\n",
    "    root_url = get_root_url(portal, server)\n",
    "\n",
    "    token_url = urljoin(root_url, token_subdir)\n",
    "\n",
    "    # set the payload for the HTTP POST request\n",
    "    # default expiration:  90 minutes\n",
    "\n",
    "    payload = {\n",
    "        \"username\": creds['user'],\n",
    "        \"password\": creds['pswd'],\n",
    "        \"client\": \"requestip\",\n",
    "        \"expiration\": exp_min,\n",
    "        \"f\": \"json\"\n",
    "        }\n",
    "\n",
    "    # send the POST requests using the Requests library\n",
    "    r = requests.post(token_url, data=payload)\n",
    "\n",
    "    # parse the token value out of the response JSON\n",
    "    token = r.json()[\"token\"]\n",
    "\n",
    "    return token"
   ]
  },
  {
   "cell_type": "markdown",
   "id": "082e25b2",
   "metadata": {},
   "source": [
    "### Check the validity of the token\n",
    "\n",
    "Verify that a working token is available for the ArcGIS Server machine.  \n",
    "- Why? To avoid generating a new token for every request.\n",
    "\n",
    "Reasons why a token might not work:\n",
    "- it has expired for the ArcGIS Server machine it was originally generated for\n",
    "- it was generated for a different ArcGIS Server machine than the one it is attempting to be used with\n",
    "\n",
    "This function sends a request to the root url\n",
    "- if it comes back with an error, a new token is generated for the ArcGIS Server machine and returned\n",
    "- if it works, the token is returned unchanged"
   ]
  },
  {
   "cell_type": "code",
   "execution_count": 6,
   "id": "059c63f6",
   "metadata": {},
   "outputs": [],
   "source": [
    "def check_token(portal, server, token):\n",
    "\n",
    "    # build URL for the ArcGIS Server REST endpoint\n",
    "    # this endpoint requires a valid token, and returns a short JSON response, if successful\n",
    "\n",
    "    subdir = \"system\"\n",
    "    root_url = get_root_url(portal, server)\n",
    "\n",
    "    test_url = urljoin(root_url, subdir)\n",
    "\n",
    "    payload = {\n",
    "        'token': token,\n",
    "        'f': 'json'\n",
    "        }\n",
    "\n",
    "    r = requests.get(test_url, params=payload)\n",
    "    # should return:  {'resources': ['directories', 'configstore', 'licenses']}`\n",
    "\n",
    "    resp = r.json()\n",
    "\n",
    "    if 'resources' in resp:\n",
    "\n",
    "        # API returned the expected response, token is valid, return it\n",
    "        return token\n",
    "\n",
    "    if 'status' in resp:\n",
    "\n",
    "        # API did not return the expected response\n",
    "        # check if it has 'error' as its status\n",
    "\n",
    "        # Token not found error\n",
    "        # {'status': 'error', 'messages': [\"Unauthorized access. Token not found. You can generate a token using the 'generateToken' operation.\"], 'code': 499}\n",
    "        # Invalid token error\n",
    "        # {'status': 'error', 'messages': [\"Server machine returned an error. 'Invalid token.'\"], 'code': 498}\n",
    "\n",
    "        # any status is a sign of failed request, and there may be other token error codes\n",
    "\n",
    "        if resp['code'] in (498, 499):\n",
    "\n",
    "            # generate a new token and return it\n",
    "            return get_token(portal, server)\n"
   ]
  },
  {
   "cell_type": "markdown",
   "id": "facb46ab",
   "metadata": {},
   "source": [
    "## Machines"
   ]
  },
  {
   "cell_type": "markdown",
   "id": "19be0eb5",
   "metadata": {},
   "source": [
    "### Get the Machines in a Server site\n",
    "\n",
    "- Each ArcGIS Server site will have one or more machines registered with it\n",
    "- Most have a single machine, but \"High Availability\" Servers can have 2 or more in order to add more computing power\n",
    "\n",
    "https://developers.arcgis.com/rest/enterprise-administration/server/machines/"
   ]
  },
  {
   "cell_type": "code",
   "execution_count": 7,
   "id": "8264ccd8",
   "metadata": {},
   "outputs": [],
   "source": [
    "def get_machines(portal, server, token=''):\n",
    "    '''Returns a dict of the Machines registered with an ArcGIS Server site, at\n",
    "    <root_url>/machines\n",
    "    Normally, there is one machine per site.  A High-Availabilty site may have more than one.\n",
    "    '''\n",
    "\n",
    "    # build URL for the ArcGIS Server REST endpoint\n",
    "\n",
    "    machines_subdir = \"machines\"\n",
    "    root_url = get_root_url(portal, server)\n",
    "\n",
    "    machines_url = urljoin(root_url, machines_subdir)\n",
    "\n",
    "    # set the payload for the HTTP GET request\n",
    "    # use the provided token argument, if present, or generate a new one\n",
    "\n",
    "    payload = {\n",
    "        'token': check_token(portal, server, token) if token else get_token(portal, server),\n",
    "        'f': 'json'\n",
    "        }\n",
    "\n",
    "    r = requests.get(machines_url, params=payload)\n",
    "\n",
    "    machines = r.json()\n",
    "\n",
    "    return machines"
   ]
  },
  {
   "cell_type": "markdown",
   "id": "c739d5ea",
   "metadata": {},
   "source": [
    "### Get a Machine status\n",
    "\n",
    "- Each Machine is either `Started` or `Stopped`\n",
    "- This function returns the status of both the **Configured State** and the **Real-Time State**\n",
    "  - The *configured* status represents the state of the resource as it was configured to be\n",
    "  - The *real-time* status represents the actual state of a resource"
   ]
  },
  {
   "cell_type": "code",
   "execution_count": 8,
   "id": "f3dc1741",
   "metadata": {},
   "outputs": [],
   "source": [
    "def get_machine_status(portal, server, machine, token=''):\n",
    "    '''Returns the Status of the specified Machine on the Server in Portal:\n",
    "    {'configuredState': 'STARTED', 'realTimeState': 'STARTED'}\n",
    "    '''\n",
    "\n",
    "    # build URL to REST endpoint\n",
    "\n",
    "    machine_status_subdir = f\"machines/{machine}/status\"\n",
    "    root_url = get_root_url(portal, server)\n",
    "\n",
    "    machine_status_url = urljoin(root_url, machine_status_subdir)\n",
    "\n",
    "    payload = {\n",
    "        'token': check_token(portal, server, token) if token else get_token(portal, server),\n",
    "        'f': 'json'\n",
    "        }\n",
    "\n",
    "    r = requests.get(machine_status_url, params=payload)\n",
    "\n",
    "    machine_status = r.json()\n",
    "\n",
    "    return machine_status"
   ]
  },
  {
   "cell_type": "markdown",
   "id": "2fa3ad32",
   "metadata": {},
   "source": [
    "# Services"
   ]
  },
  {
   "cell_type": "markdown",
   "id": "b204d768",
   "metadata": {},
   "source": [
    "## Get the Services in a Machine Root or Folder Path"
   ]
  },
  {
   "cell_type": "markdown",
   "id": "7a84b93f",
   "metadata": {},
   "source": [
    "### Get the Subfolders"
   ]
  },
  {
   "cell_type": "code",
   "execution_count": 9,
   "id": "af5846f7",
   "metadata": {},
   "outputs": [],
   "source": [
    "def get_subfolders(portal, server, details=False, token=''):\n",
    "    '''Returns a list of the subfolders in the root folder on the specified Machine\n",
    "    on the specified Server in Portal\n",
    "    Set details to 'True' to get a detailed dict of subfolders (folderName, description, etc.)\n",
    "    Leave details as 'False' to get a simple list of folder name strings\n",
    "    '''\n",
    "\n",
    "    # build URL to REST endpoint\n",
    "\n",
    "    services_subdir = f\"services\"\n",
    "\n",
    "    root_url = get_root_url(portal, server)\n",
    "    services_url = urljoin(root_url, services_subdir)\n",
    "\n",
    "    payload = {\n",
    "        'token': token if token else get_token(portal, server),\n",
    "        'detail': 'true',\n",
    "        'f': 'json'\n",
    "        }\n",
    "\n",
    "    r = requests.get(services_url, params=payload)\n",
    "\n",
    "    if details == True:\n",
    "        services = r.json()['foldersDetail']\n",
    "    else:\n",
    "        services = r.json()['folders']\n",
    "\n",
    "    return services"
   ]
  },
  {
   "cell_type": "markdown",
   "id": "68bcc4db",
   "metadata": {},
   "source": [
    "### Get the Services in a folder"
   ]
  },
  {
   "cell_type": "code",
   "execution_count": 10,
   "id": "a0a5cf80",
   "metadata": {},
   "outputs": [],
   "source": [
    "def get_services(portal, server, folder='', token=''):\n",
    "    '''Returns a list of the Services (dicts) in the folder on the specified Machine on the Server in Portal\n",
    "    Leave folder blank to get services in root\n",
    "    '''\n",
    "\n",
    "    # build URL to REST endpoint\n",
    "\n",
    "    services_subdir = f\"services{r'/' + folder}\"   # any specified folder needs to begin with a forward slash '/'\n",
    "\n",
    "    root_url = get_root_url(portal, server)\n",
    "    services_url = urljoin(root_url, services_subdir)\n",
    "\n",
    "    payload = {\n",
    "        'token': token if token else get_token(portal, server),\n",
    "        'detail': 'true',\n",
    "        'f': 'json'\n",
    "        }\n",
    "\n",
    "    r = requests.get(services_url, params=payload)\n",
    "\n",
    "    services = r.json()['services']\n",
    "\n",
    "    return services"
   ]
  },
  {
   "cell_type": "markdown",
   "id": "b84e8012",
   "metadata": {},
   "source": [
    "### Get a Service"
   ]
  },
  {
   "cell_type": "code",
   "execution_count": 11,
   "id": "0095c262",
   "metadata": {},
   "outputs": [],
   "source": [
    "def get_service(portal, server, folder, serviceName, serviceType, token=''):\n",
    "    '''Returns a single Service (dict) as json text\n",
    "    requires the Portal, Server, Folder, and Service names\n",
    "    if service is in the root folder, use an empty string for folder\n",
    "    '''\n",
    "\n",
    "    # build URL to REST endpoint\n",
    "\n",
    "    service_resource = f\"services/{folder}/{serviceName}.{serviceType}\"\n",
    "    root_url = get_root_url(portal, server)\n",
    "\n",
    "    service_url = urljoin(root_url, service_resource)\n",
    "\n",
    "    payload = {\n",
    "        'token': token if token else get_token(portal, server),\n",
    "        'detail': 'true',\n",
    "        'f': 'json'\n",
    "        }\n",
    "\n",
    "    r = requests.get(service_url, params=payload)\n",
    "\n",
    "    service = r.json()\n",
    "\n",
    "    return service"
   ]
  },
  {
   "cell_type": "markdown",
   "id": "b5b7ec95",
   "metadata": {},
   "source": [
    "### Edit a Service"
   ]
  },
  {
   "cell_type": "code",
   "execution_count": 12,
   "id": "cbc3ed45",
   "metadata": {},
   "outputs": [],
   "source": [
    "def edit_service(portal, server, folder, serviceName, serviceType, updates={}, token=''):\n",
    "    '''edits the service to include the updates in the 'updates' dict'''\n",
    "\n",
    "    # ex: updates = {'prop1':'new_value1', 'prop2':'new_value2', ...}\n",
    "\n",
    "    # NOTE:\n",
    "    # To edit a service, you need to submit the complete JSON representation of the service,\n",
    "    # which includes the updates to the service properties.\n",
    "    # Editing a service causes it to be restarted with updated properties.\n",
    "    # use a POST request with a 'data' parameter (not 'params')\n",
    "\n",
    "    if len(updates):  # at least one update exists\n",
    "\n",
    "        # get the service as a dict\n",
    "        service = get_service(portal, server, folder, serviceName, serviceType, token='')\n",
    "\n",
    "        # update the service properties using the keys/values from the updates dict\n",
    "        for prop in updates.keys():\n",
    "            service[prop] = updates[prop]\n",
    "\n",
    "        # service dict should now include the updated values\n",
    "\n",
    "        # build URL to REST the /edit endpoint\n",
    "        edit_path = f\"services/{folder}/{serviceName}.{serviceType}/edit\"\n",
    "        root_url = get_root_url(portal, server)\n",
    "        edit_url = urljoin(root_url, edit_path)\n",
    "\n",
    "        # use json.dumps() to convert the dict to a JSON string\n",
    "        payload = {\n",
    "            'token': token if token else get_token(portal, server),\n",
    "            'service': json.dumps(service),\n",
    "            'f': 'pjson'\n",
    "            }\n",
    "\n",
    "        # send the edit request\n",
    "        # for the POST request, uses 'data' instead of 'params' or you will get errors and errors and errors\n",
    "        r = requests.post(edit_url, data=payload)\n",
    "\n",
    "        return r.text\n",
    "\n",
    "    else:\n",
    "        return \"No updates included\""
   ]
  },
  {
   "cell_type": "markdown",
   "id": "9123a5de",
   "metadata": {},
   "source": [
    "## Make the Updates"
   ]
  },
  {
   "cell_type": "code",
   "execution_count": null,
   "id": "8422e11d",
   "metadata": {},
   "outputs": [],
   "source": [
    "portal = \"central\"\n",
    "server = \"row\"\n",
    "\n",
    "token = get_token(portal, server, exp_min=90)"
   ]
  },
  {
   "cell_type": "markdown",
   "id": "22bfdb01",
   "metadata": {},
   "source": [
    "Update Services\n",
    "\n",
    "- change any Service with a MaxInstancesPerNode value of 0 to a value of 1"
   ]
  },
  {
   "cell_type": "code",
   "execution_count": 17,
   "id": "aefe6af0",
   "metadata": {},
   "outputs": [],
   "source": [
    "def update_services(services, folder='', test=False):\n",
    "    # runs through a list of services\n",
    "    # this is done as a function in order to handle the list from the root\n",
    "    # and the lists from the subfolders in one batch of code\n",
    "\n",
    "    # set test param to True to see a list of services needing updates\n",
    "\n",
    "    for service in services:\n",
    "\n",
    "        if service['maxInstancesPerNode'] == 0:\n",
    "\n",
    "            updates = {'maxInstancesPerNode': 1}  # new value\n",
    "            serviceName = service['serviceName']\n",
    "            serviceType = service['type']\n",
    "\n",
    "            if test:\n",
    "                # print the current service for testing / staging\n",
    "                print(f\"{portal:<12} {server:<12} {folder:<24}  {serviceName} ({serviceType})\")\n",
    "            else:\n",
    "                # call the REST endpoint to update the service with new values\n",
    "                # edit_service(portal, server, folder, serviceName, serviceType, updates, token)\n",
    "                print(\"This was only a test\")\n",
    "                print(f\"{portal:<12} {server:<12} {folder:<24}  {serviceName} ({serviceType}) {updates}\")\n"
   ]
  },
  {
   "cell_type": "markdown",
   "id": "a134c6a0",
   "metadata": {},
   "source": [
    "## Fix (or Check) all servers on all portals"
   ]
  },
  {
   "cell_type": "code",
   "execution_count": null,
   "id": "727c714e",
   "metadata": {},
   "outputs": [],
   "source": [
    "test = True\n",
    "\n",
    "\n",
    "with open('params.json', 'r') as jsonfile:\n",
    "    jsontxt = jsonfile.read()\n",
    "\n",
    "    j = json.loads(jsontxt)\n",
    "\n",
    "deployments = j[\"roots\"]\n",
    "\n",
    "# print(servers)\n",
    "\n",
    "for portal in deployments.keys():\n",
    "    for server in deployments[portal].keys():\n",
    "        print(f\"{portal:<12}{server}\")\n",
    "\n",
    "        # get a token for this specific portal/server\n",
    "        token = get_token(portal, server)\n",
    "\n",
    "        # get the services in the root folder\n",
    "        root_services = get_services(portal, server, '', token)\n",
    "\n",
    "        # update the services in the root folder\n",
    "        update_services(root_services)\n",
    "\n",
    "        # get the names of the subfolders\n",
    "        subfolders = get_subfolders(portal, server, False, token)\n",
    "\n",
    "        # iterate through each folder\n",
    "        for folder in subfolders:\n",
    "\n",
    "            # get a list of the services\n",
    "            # skip 'hosted' folder. those services don't show instance saturation metrics\n",
    "\n",
    "            if not folder == \"Hosted\":\n",
    "                services = get_services(portal, server, folder, token)\n",
    "\n",
    "                # send that list to get updated\n",
    "                # include True for testing. this will print the services, but leave them unchanged\n",
    "                # use this to test for services that need to be updated\n",
    "\n",
    "                update_services(services, folder, test)\n",
    "\n",
    "        print(\"done\\n\")"
   ]
  }
 ],
 "metadata": {
  "kernelspec": {
   "display_name": "Python 3",
   "language": "python",
   "name": "python3"
  },
  "language_info": {
   "codemirror_mode": {
    "name": "ipython",
    "version": 3
   },
   "file_extension": ".py",
   "mimetype": "text/x-python",
   "name": "python",
   "nbconvert_exporter": "python",
   "pygments_lexer": "ipython3",
   "version": "3.11.11"
  }
 },
 "nbformat": 4,
 "nbformat_minor": 5
}
