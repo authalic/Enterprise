{
 "cells": [
  {
   "cell_type": "markdown",
   "id": "dec3e9d8",
   "metadata": {},
   "source": [
    "# Server Admin REST API\n",
    "\n",
    "Using HTTP to administer an ArcGIS Server "
   ]
  },
  {
   "cell_type": "code",
   "execution_count": null,
   "id": "5040485f",
   "metadata": {},
   "outputs": [],
   "source": [
    "# Server Admin\n",
    "\n",
    "import json\n",
    "from urllib.parse import urljoin\n",
    "\n",
    "import requests\n"
   ]
  },
  {
   "cell_type": "code",
   "execution_count": null,
   "id": "f0c72a65",
   "metadata": {},
   "outputs": [],
   "source": [
    "# get Portal credentials from json file stored outside version control\n",
    "\n",
    "with open('params.json', 'r') as jsonfile:\n",
    "    jsontxt = jsonfile.read()\n",
    "\n",
    "    creds = json.loads(jsontxt)\n"
   ]
  },
  {
   "cell_type": "code",
   "execution_count": null,
   "id": "6fbdcc7a",
   "metadata": {},
   "outputs": [],
   "source": [
    "user = creds['login']['username']\n",
    "pswd = creds['login']['password']\n",
    "cent_url = creds['sites']['central']['central']\n",
    "\n",
    "payload = {\n",
    "    \"username\": user,\n",
    "    \"password\": pswd,\n",
    "    \"client\": \"requestip\",\n",
    "    \"expiration\": 10,\n",
    "    \"f\": \"pjson\"\n",
    "    }"
   ]
  },
  {
   "cell_type": "code",
   "execution_count": null,
   "id": "94f286d1",
   "metadata": {},
   "outputs": [],
   "source": [
    "token_subdir = \"generateToken\"\n",
    "token_url = urljoin(cent_url, token_subdir)"
   ]
  },
  {
   "cell_type": "code",
   "execution_count": null,
   "id": "c523e8ac",
   "metadata": {},
   "outputs": [],
   "source": [
    "r = requests.post(token_url, data=payload)\n",
    "token = r.json()[\"token\"]\n",
    "\n",
    "print(token)"
   ]
  }
 ],
 "metadata": {
  "kernelspec": {
   "display_name": "Python 3",
   "language": "python",
   "name": "python3"
  },
  "language_info": {
   "codemirror_mode": {
    "name": "ipython",
    "version": 3
   },
   "file_extension": ".py",
   "mimetype": "text/x-python",
   "name": "python",
   "nbconvert_exporter": "python",
   "pygments_lexer": "ipython3",
   "version": "3.11.11"
  }
 },
 "nbformat": 4,
 "nbformat_minor": 5
}
