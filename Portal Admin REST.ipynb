{
 "cells": [
  {
   "cell_type": "markdown",
   "id": "6bb85e5c",
   "metadata": {},
   "source": [
    "# Portal Admin Directory\n",
    "\n",
    "- accessing the Portal for ArcGIS Admin Directory"
   ]
  },
  {
   "cell_type": "code",
   "execution_count": null,
   "id": "f70ec984",
   "metadata": {},
   "outputs": [],
   "source": [
    "import json\n",
    "from urllib.parse import urljoin\n",
    "\n",
    "import requests"
   ]
  },
  {
   "cell_type": "code",
   "execution_count": null,
   "id": "c33a51fd",
   "metadata": {},
   "outputs": [],
   "source": [
    "def get_credentials():\n",
    "    '''Get the username and password for the Server sites in a Dict with keys: 'user' and 'pswd'\n",
    "    '''\n",
    "\n",
    "    with open('params.json', 'r') as jsonfile:\n",
    "        jsontxt = jsonfile.read()\n",
    "\n",
    "        creds_json = json.loads(jsontxt)\n",
    "\n",
    "    user = creds_json['login']['username']\n",
    "    pswd = creds_json['login']['password']\n",
    "\n",
    "    creds = {\n",
    "        \"user\": user,\n",
    "        \"pswd\": pswd\n",
    "        }\n",
    "\n",
    "    return creds"
   ]
  },
  {
   "cell_type": "markdown",
   "id": "224a999d",
   "metadata": {},
   "source": [
    "## Get the Portal Admin Directory URL"
   ]
  },
  {
   "cell_type": "code",
   "execution_count": null,
   "id": "5dbcb997",
   "metadata": {},
   "outputs": [],
   "source": [
    "def get_portaladmin_url(portal):\n",
    "    '''Returns the Portal Administrator Directory URL for a Portal\n",
    "    '''\n",
    "\n",
    "    # get Portal credentials and URL\n",
    "    # stored in a dict in a json file stored outside version control\n",
    "\n",
    "    with open('params.json', 'r') as jsonfile:\n",
    "        jsontxt = jsonfile.read()\n",
    "\n",
    "        creds = json.loads(jsontxt)\n",
    "\n",
    "    # get the URL of the Portal Administrator Directory API root resource\n",
    "    # https://developers.arcgis.com/rest/enterprise-administration/portal/portal-administration-root/\n",
    "\n",
    "\n",
    "    root_url = creds['portal'][portal]['admin']\n",
    "\n",
    "    return root_url"
   ]
  },
  {
   "cell_type": "markdown",
   "id": "aab906c6",
   "metadata": {},
   "source": [
    "## Generate a Token\n",
    "\n",
    "- Any of the functions that operate on a password-protected REST API require a token for access\n",
    "- Best practice in scripting is to generate a single token with the function below, then pass it as an argument to later functions.\n",
    "- Each function has the ability to generate its own token, if none is passed.\n"
   ]
  },
  {
   "cell_type": "code",
   "execution_count": null,
   "id": "be7f1eea",
   "metadata": {},
   "outputs": [],
   "source": [
    "def get_token(portal, exp_min=90):\n",
    "    '''Returns a token that can be used by clients when working with the Portal Admin API.\n",
    "    '''\n",
    "\n",
    "    # get Portal credentials, stored outside version control\n",
    "    creds = get_credentials()\n",
    "\n",
    "    # build the URL to the 'Generate Token' endpoint\n",
    "    token_url = rf\"https://{portal}.udot.utah.gov/portal/sharing/rest/generateToken/\"\n",
    "\n",
    "    # set the payload for the HTTP POST request\n",
    "    # default expiration:  90 minutes\n",
    "\n",
    "    payload = {\n",
    "        \"username\": creds['user'],\n",
    "        \"password\": creds['pswd'],\n",
    "        \"client\": \"requestip\",\n",
    "        \"expiration\": exp_min,\n",
    "        \"f\": \"json\"\n",
    "        }\n",
    "\n",
    "    # send the POST requests using the Requests library\n",
    "    r = requests.post(token_url, data=payload)\n",
    "\n",
    "    # parse the token value out of the response JSON\n",
    "    token = r.json()[\"token\"]\n",
    "\n",
    "    return token"
   ]
  },
  {
   "cell_type": "markdown",
   "id": "dcc2702d",
   "metadata": {},
   "source": [
    "## Root Admin Directory"
   ]
  },
  {
   "cell_type": "code",
   "execution_count": null,
   "id": "fac94843",
   "metadata": {},
   "outputs": [],
   "source": [
    "portalname = \"roads\"\n",
    "url = get_portaladmin_url(portalname)\n",
    "\n",
    "token = get_token(portalname)"
   ]
  },
  {
   "cell_type": "code",
   "execution_count": null,
   "id": "bb43b806",
   "metadata": {},
   "outputs": [],
   "source": [
    "print(url)\n",
    "print(token)\n"
   ]
  },
  {
   "cell_type": "code",
   "execution_count": null,
   "id": "14fdd898",
   "metadata": {},
   "outputs": [],
   "source": [
    "\n",
    "print(url)\n",
    "\n",
    "payload = {\n",
    "    'token': token,\n",
    "    'f': 'pjson'\n",
    "    }\n",
    "\n",
    "r = requests.get(url, params=payload)\n",
    "\n",
    "print(r.url)\n",
    "print(r.json())\n",
    "\n",
    "\n",
    "# error:  Invalid Token\n",
    "#  'details': ['Token would have expired, regenerate token and send the request again.', 'If the token is generated based on the referrer make sure the referrer information is available with every request in header.']\n"
   ]
  }
 ],
 "metadata": {
  "kernelspec": {
   "display_name": "Python 3",
   "language": "python",
   "name": "python3"
  },
  "language_info": {
   "codemirror_mode": {
    "name": "ipython",
    "version": 3
   },
   "file_extension": ".py",
   "mimetype": "text/x-python",
   "name": "python",
   "nbconvert_exporter": "python",
   "pygments_lexer": "ipython3",
   "version": "3.11.11"
  }
 },
 "nbformat": 4,
 "nbformat_minor": 5
}
